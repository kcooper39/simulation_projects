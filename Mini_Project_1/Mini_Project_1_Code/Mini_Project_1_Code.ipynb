{
  "nbformat": 4,
  "nbformat_minor": 0,
  "metadata": {
    "colab": {
      "name": "ISyE6644_Project1.ipynb",
      "provenance": [],
      "collapsed_sections": []
    },
    "kernelspec": {
      "name": "python3",
      "display_name": "Python 3"
    },
    "language_info": {
      "name": "python"
    }
  },
  "cells": [
    {
      "cell_type": "markdown",
      "metadata": {
        "id": "sgI6dAJxh-Qw"
      },
      "source": [
        "# ISyE 6644 – Summer 2021\n",
        "# Project 1: *Pandemic Flu Spread* (Q4)\n",
        "## Team BMK: Kevin Cooper, Brent Radcliffe, Matteo Zullo"
      ]
    },
    {
      "cell_type": "code",
      "metadata": {
        "id": "AVEcJQKihyof"
      },
      "source": [
        "import random\n",
        "import matplotlib.pyplot as plt\n",
        "import numpy as np\n",
        "from collections import defaultdict\n",
        "from google.colab import files\n",
        "\n",
        "\n",
        "def initialize_kids():\n",
        "    \"\"\" The function initializes the classroom with kid_0 as infected.\"\"\"\n",
        "    kids = ['kid_0'] + ['kid_' + str(i) for i in range(1, 21)]  # kid tag\n",
        "    sick = [1] + [0 for i in range(1, 21)]  # infected yes/no\n",
        "    counter = [1] + [0 for i in range(1, 21)]  # lenght of infection\n",
        "    return {'kids': kids, 'sick': sick, 'counter': counter}  # output dictionary\n",
        "\n",
        "\n",
        "def count_infected(probs: list):\n",
        "    \"\"\" The function returns the number of infected kids\"\"\"\n",
        "    return sum(probs)\n",
        "\n",
        "\n",
        "def update_kids(kids: dict, n_infected: int):\n",
        "    \"\"\" The function updates the health status of kids.\"\"\"\n",
        "\n",
        "    # Begin of day: Update status of healthy kids.\n",
        "    for i in range(21):  # loop through kids\n",
        "\n",
        "      # update sick kids\n",
        "      if kids['counter'][i] > 0:\n",
        "        kids['counter'][i] += 1\n",
        "\n",
        "      # update healthy kids\n",
        "      if kids['counter'][i] == 0:\n",
        "        count = 0\n",
        "        while count < n_infected:  # n independent Bern(0.02)\n",
        "          p = random.random()  # generate random Unif(0,1)\n",
        "          if (p <= 0.02): # probability of infection\n",
        "            kids['sick'][i] = 1  # update status to sick\n",
        "            kids['counter'][i] += 1  # add 1 to counter\n",
        "          count += 1\n",
        "\n",
        "    # End of day: Update status of recovered kids.\n",
        "    for i in range(21):\n",
        "      if kids['counter'][i] >= 4:\n",
        "        kids['sick'][i] = 0\n",
        "    return kids\n",
        "\n",
        "\n",
        "def simulate_day1(no_runs = 10000):\n",
        "  \"\"\" The function simulates day-1 spread.\"\"\"\n",
        "  output = []\n",
        "  run = 0\n",
        "\n",
        "  while run < no_runs:\n",
        "    # initialize classroom\n",
        "    kids_0 = initialize_kids()\n",
        "    n_0 = count_infected(kids_0['sick'])\n",
        "    # day 1\n",
        "    kids_1 = update_kids(kids_0, n_0)\n",
        "    no_1 = count_infected(kids_1['sick'])\n",
        "    output.append(no_1)\n",
        "    run += 1\n",
        "  return output\n",
        "\n",
        "\n",
        "def simulate_day2(no_runs = 10000):\n",
        "  \"\"\" The function simulates day-2 spread.\"\"\"\n",
        "  output = []\n",
        "  run = 0\n",
        "\n",
        "  while run < no_runs:\n",
        "    # initialize classroom\n",
        "    kids_0 = initialize_kids()\n",
        "    n_0 = count_infected(kids_0['sick'])\n",
        "    # day 1\n",
        "    kids_1 = update_kids(kids_0, n_0)\n",
        "    no_1 = count_infected(kids_1['sick'])\n",
        "    # day 2\n",
        "    kids_2 = update_kids(kids_1, no_1)\n",
        "    no_2 = count_infected(kids_2['sick'])\n",
        "    output.append(no_2)\n",
        "    run += 1\n",
        "  return output\n",
        "\n",
        "\n",
        "def simulate_epidemic(no_runs = 10000):\n",
        "  \"\"\" The function simulates an epidemic.\"\"\"\n",
        "\n",
        "  length = []\n",
        "  days = defaultdict(list)\n",
        "  run = 0\n",
        "\n",
        "  while run < no_runs:\n",
        "  \n",
        "    # initialize classroom\n",
        "    kids__ = initialize_kids()\n",
        "    no__ = count_infected(kids__['sick'])\n",
        "    no_day = 0\n",
        "    # stop epidemic when everyone's healthy again\n",
        "    while no__ > 0:\n",
        "      kids__ = update_kids(kids__, no__)\n",
        "      no__ = count_infected(kids__['sick'])\n",
        "      no_day += 1  # add to counter\n",
        "      days[str(no_day)].append(no__)\n",
        "\n",
        "    # save output\n",
        "    length.append(no_day)\n",
        "    run += 1\n",
        "  \n",
        "  # fill in 0s for missing days (epidemic ends at different times but arrays must have equal length!)\n",
        "  for day, values in days.items():\n",
        "    days[day] = values + [0 for i in range(no_runs - len(values))]\n",
        "\n",
        "  return length, days\n",
        "\n",
        "\n",
        "def expected_value(cases: list):\n",
        "  return sum([cases.count(x_i)/len(cases)*x_i for x_i in set(cases)])\n",
        "\n",
        "\n",
        "def plot_cases(cases: list, xlab :str, file_name: str):\n",
        "  \"\"\" The function returns the pdf of number of cases.\"\"\"\n",
        "  plt.hist(cases, density=True, bins = list(set(cases)))\n",
        "  plt.ylabel('Frequency')\n",
        "  plt.xlabel(xlab)\n",
        "  plt.savefig(file_name)\n",
        "  files.download(file_name)\n",
        "  return plt.show()"
      ],
      "execution_count": null,
      "outputs": []
    },
    {
      "cell_type": "markdown",
      "metadata": {
        "id": "kpAbEaIj3LLq"
      },
      "source": [
        "## Part a.\n",
        "\n",
        "The empirical distribution of infected kids at day 1 (averaged over 10,000 simulation runs) is plotted below. The functional form for the empirical PDF $X= f(x)$ can be obtained by calculating the probability of each outcome. \n",
        "\n",
        "This would be a categorical variable or generalized Bernoulli, in which the outcome $x=0$ has probability $0$ and outcomes $[1,\\cdots,x_i,\\cdots,21]$ have probability $p_i$. Please note that the cap is set at 21 because that is the maximum number of infected students in the (almost impossible) case in which patient 0 succeeded in infecting all the other kids by day 1.\n",
        "\n",
        "$\\begin{equation}\n",
        "    X=\n",
        "    \\begin{cases}\n",
        "      0, & \\text{if}\\ x=0 \\\\\n",
        "      p_1, & \\text{if}\\ x=1 \\\\\n",
        "      \\cdots, & \\cdots \\\\\n",
        "      p_i, & \\text{if}\\ x=x_i \\\\\n",
        "      \\cdots, & \\cdots \\\\\n",
        "      p_{21}, & x=21 \\\\\n",
        "      0, & otherwise \\\\\n",
        "    \\end{cases}\n",
        "  \\end{equation}\n",
        "$"
      ]
    },
    {
      "cell_type": "code",
      "metadata": {
        "colab": {
          "base_uri": "https://localhost:8080/",
          "height": 466
        },
        "id": "a6ba413U26xV",
        "outputId": "c6f5dac3-3e53-4770-951a-1a7aee3b77e0"
      },
      "source": [
        "day_1 = simulate_day1()  # day 1 simulation\n",
        "plot_cases(day_1, \"Number of cases\", \"day_1_hist.png\")  # plot PDF\n",
        "\n",
        "print(\"\\n\")\n",
        "print(\"Here's the event set with associated probabilities:\")\n",
        "print(\"p = 0, if x = 0\")\n",
        "for x_i in set(day_1):\n",
        "  p_i = day_1.count(x_i)/len(day_1)\n",
        "  print(\"p = {}, if x = {}\".format(x_i, p_i))\n",
        "print(\"p = 0, otherwise\")"
      ],
      "execution_count": null,
      "outputs": [
        {
          "output_type": "display_data",
          "data": {
            "application/javascript": [
              "\n",
              "    async function download(id, filename, size) {\n",
              "      if (!google.colab.kernel.accessAllowed) {\n",
              "        return;\n",
              "      }\n",
              "      const div = document.createElement('div');\n",
              "      const label = document.createElement('label');\n",
              "      label.textContent = `Downloading \"${filename}\": `;\n",
              "      div.appendChild(label);\n",
              "      const progress = document.createElement('progress');\n",
              "      progress.max = size;\n",
              "      div.appendChild(progress);\n",
              "      document.body.appendChild(div);\n",
              "\n",
              "      const buffers = [];\n",
              "      let downloaded = 0;\n",
              "\n",
              "      const channel = await google.colab.kernel.comms.open(id);\n",
              "      // Send a message to notify the kernel that we're ready.\n",
              "      channel.send({})\n",
              "\n",
              "      for await (const message of channel.messages) {\n",
              "        // Send a message to notify the kernel that we're ready.\n",
              "        channel.send({})\n",
              "        if (message.buffers) {\n",
              "          for (const buffer of message.buffers) {\n",
              "            buffers.push(buffer);\n",
              "            downloaded += buffer.byteLength;\n",
              "            progress.value = downloaded;\n",
              "          }\n",
              "        }\n",
              "      }\n",
              "      const blob = new Blob(buffers, {type: 'application/binary'});\n",
              "      const a = document.createElement('a');\n",
              "      a.href = window.URL.createObjectURL(blob);\n",
              "      a.download = filename;\n",
              "      div.appendChild(a);\n",
              "      a.click();\n",
              "      div.remove();\n",
              "    }\n",
              "  "
            ],
            "text/plain": [
              "<IPython.core.display.Javascript object>"
            ]
          },
          "metadata": {
            "tags": []
          }
        },
        {
          "output_type": "display_data",
          "data": {
            "application/javascript": [
              "download(\"download_0f6b2a78-8c75-4c1c-885c-8529d2338741\", \"day_1_hist.png\", 8029)"
            ],
            "text/plain": [
              "<IPython.core.display.Javascript object>"
            ]
          },
          "metadata": {
            "tags": []
          }
        },
        {
          "output_type": "display_data",
          "data": {
            "image/png": "[encoded data removed]",
            "text/plain": [
              "<Figure size 432x288 with 1 Axes>"
            ]
          },
          "metadata": {
            "tags": [],
            "needs_background": "light"
          }
        },
        {
          "output_type": "stream",
          "text": [
            "\n",
            "\n",
            "Here's the event set with associated probabilities:\n",
            "p = 0, if x = 0\n",
            "p = 1, if x = 0.6697\n",
            "p = 2, if x = 0.2695\n",
            "p = 3, if x = 0.053\n",
            "p = 4, if x = 0.0074\n",
            "p = 5, if x = 0.0004\n",
            "p = 0, otherwise\n"
          ],
          "name": "stdout"
        }
      ]
    },
    {
      "cell_type": "markdown",
      "metadata": {
        "id": "mpx1-lWN-Yb5"
      },
      "source": [
        "## Part b.\n",
        "The expected value of the number of kids that Tommy infects on Day 1 is given by the weighted occurrence of each outcome in the event set with weights for the probability of the outcome happening. More formally:\n",
        "\n",
        "$$E[X] = \\sum_i x_ip_i$$\n"
      ]
    },
    {
      "cell_type": "code",
      "metadata": {
        "colab": {
          "base_uri": "https://localhost:8080/"
        },
        "id": "f7qNRx2e_Inl",
        "outputId": "ceceb2dd-0434-43d8-8e17-8ab9d25aa9b2"
      },
      "source": [
        "E_X = expected_value(day_1)\n",
        "print(\"The expected value is {}.\".format(E_X))"
      ],
      "execution_count": null,
      "outputs": [
        {
          "output_type": "stream",
          "text": [
            "The expected value is 1.4105999999999999.\n"
          ],
          "name": "stdout"
        }
      ]
    },
    {
      "cell_type": "markdown",
      "metadata": {
        "id": "KL4qW76JAi4c"
      },
      "source": [
        "## Part c.\n",
        "\n",
        "The expected number of kids infected by day 2 equals the expected number of sick kids at the end of day 2. Please note that we do not have to cumulate here because kids are sick for three days starting from the day following the infection. Therefore, there would be no kid who has fully recovered from the infection by the end of day 2. Again, we simulate the 2-day viral spread over 1,000 runs."
      ]
    },
    {
      "cell_type": "code",
      "metadata": {
        "colab": {
          "base_uri": "https://localhost:8080/"
        },
        "id": "qVrCjvkvAg4y",
        "outputId": "d65e562e-7921-4049-d9f3-e6de8a68b78d"
      },
      "source": [
        "day_2 = simulate_day2()  # day 1 simulation\n",
        "E_X = expected_value(day_2)\n",
        "print(\"The expected value is {}.\".format(E_X))"
      ],
      "execution_count": null,
      "outputs": [
        {
          "output_type": "stream",
          "text": [
            "The expected value is 1.9362000000000001.\n"
          ],
          "name": "stdout"
        }
      ]
    },
    {
      "cell_type": "markdown",
      "metadata": {
        "id": "l4WzNXOcBvMs"
      },
      "source": [
        "## Part d.\n",
        "The expected number of days that the pandemic slast is the number of days until there are no sick kids. We wrote a function with said stop criterion, and executed it 10,000 times. Below, we show a histogram of the timespan distribution and the expected number of cases by the day. The pandemic is very likely (>30%) to last 3 days because the patient-0 probability of infecting other kids is very low. Another peak is seen at 6 days, which happens when only one kid gets infected. However, outcomes between 7-13 days are all similarly likely with a probability of about 5%. Longer epidemics are far less likely, and the histogram quickly tapers off."
      ]
    },
    {
      "cell_type": "code",
      "metadata": {
        "colab": {
          "base_uri": "https://localhost:8080/",
          "height": 830
        },
        "id": "Z561qaXGCSg0",
        "outputId": "2024e277-4dc6-4676-cee5-883ed920bb15"
      },
      "source": [
        "length, days = simulate_epidemic()\n",
        "plot_cases(length, \"Length (Days)\", \"pandemic_len.png\")  # plot PDF\n",
        "\n",
        "print(\"Expected values for each day:\")\n",
        "for day, values in days.items():\n",
        "  E_X = expected_value(values)\n",
        "  print(\"E[x={}] = {}\".format(day, E_X))"
      ],
      "execution_count": null,
      "outputs": [
        {
          "output_type": "display_data",
          "data": {
            "application/javascript": [
              "\n",
              "    async function download(id, filename, size) {\n",
              "      if (!google.colab.kernel.accessAllowed) {\n",
              "        return;\n",
              "      }\n",
              "      const div = document.createElement('div');\n",
              "      const label = document.createElement('label');\n",
              "      label.textContent = `Downloading \"${filename}\": `;\n",
              "      div.appendChild(label);\n",
              "      const progress = document.createElement('progress');\n",
              "      progress.max = size;\n",
              "      div.appendChild(progress);\n",
              "      document.body.appendChild(div);\n",
              "\n",
              "      const buffers = [];\n",
              "      let downloaded = 0;\n",
              "\n",
              "      const channel = await google.colab.kernel.comms.open(id);\n",
              "      // Send a message to notify the kernel that we're ready.\n",
              "      channel.send({})\n",
              "\n",
              "      for await (const message of channel.messages) {\n",
              "        // Send a message to notify the kernel that we're ready.\n",
              "        channel.send({})\n",
              "        if (message.buffers) {\n",
              "          for (const buffer of message.buffers) {\n",
              "            buffers.push(buffer);\n",
              "            downloaded += buffer.byteLength;\n",
              "            progress.value = downloaded;\n",
              "          }\n",
              "        }\n",
              "      }\n",
              "      const blob = new Blob(buffers, {type: 'application/binary'});\n",
              "      const a = document.createElement('a');\n",
              "      a.href = window.URL.createObjectURL(blob);\n",
              "      a.download = filename;\n",
              "      div.appendChild(a);\n",
              "      a.click();\n",
              "      div.remove();\n",
              "    }\n",
              "  "
            ],
            "text/plain": [
              "<IPython.core.display.Javascript object>"
            ]
          },
          "metadata": {
            "tags": []
          }
        },
        {
          "output_type": "display_data",
          "data": {
            "application/javascript": [
              "download(\"download_5f28e2ac-46ee-45c9-9c44-f5a0b86ebf09\", \"pandemic_len.png\", 8271)"
            ],
            "text/plain": [
              "<IPython.core.display.Javascript object>"
            ]
          },
          "metadata": {
            "tags": []
          }
        },
        {
          "output_type": "display_data",
          "data": {
            "image/png": "[encoded data removed]",
            "text/plain": [
              "<Figure size 432x288 with 1 Axes>"
            ]
          },
          "metadata": {
            "tags": [],
            "needs_background": "light"
          }
        },
        {
          "output_type": "stream",
          "text": [
            "Expected values for each day:\n",
            "E[x=1] = 1.4021000000000001\n",
            "E[x=2] = 1.9325\n",
            "E[x=3] = 1.6412999999999998\n",
            "E[x=4] = 1.7783\n",
            "E[x=5] = 1.7798999999999994\n",
            "E[x=6] = 1.5695000000000001\n",
            "E[x=7] = 1.4196\n",
            "E[x=8] = 1.2131\n",
            "E[x=9] = 0.9863999999999999\n",
            "E[x=10] = 0.793\n",
            "E[x=11] = 0.6072000000000001\n",
            "E[x=12] = 0.45099999999999996\n",
            "E[x=13] = 0.33469999999999994\n",
            "E[x=14] = 0.2463\n",
            "E[x=15] = 0.17420000000000002\n",
            "E[x=16] = 0.12\n",
            "E[x=17] = 0.0772\n",
            "E[x=18] = 0.0493\n",
            "E[x=19] = 0.0314\n",
            "E[x=20] = 0.0203\n",
            "E[x=21] = 0.013300000000000001\n",
            "E[x=22] = 0.008199999999999999\n",
            "E[x=23] = 0.004999999999999999\n",
            "E[x=24] = 0.0036\n",
            "E[x=25] = 0.0016\n",
            "E[x=26] = 0.0010999999999999998\n",
            "E[x=27] = 0.0005\n",
            "E[x=28] = 0.0002\n",
            "E[x=29] = 0.0\n"
          ],
          "name": "stdout"
        }
      ]
    }
  ]
}