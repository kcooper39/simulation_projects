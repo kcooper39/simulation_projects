{
  "nbformat": 4,
  "nbformat_minor": 0,
  "metadata": {
    "colab": {
      "name": "ISyE6644_Project2.ipynb",
      "provenance": [],
      "collapsed_sections": []
    },
    "kernelspec": {
      "name": "python3",
      "display_name": "Python 3"
    },
    "language_info": {
      "name": "python"
    }
  },
  "cells": [
    {
      "cell_type": "code",
      "metadata": {
        "id": "xg0QYIRBkqUe"
      },
      "source": [
        "import random\n",
        "import matplotlib.pyplot as plt\n",
        "import seaborn as sns\n",
        "sns.set_theme(style=\"darkgrid\")\n",
        "import numpy as np\n",
        "from collections import defaultdict\n",
        "from google.colab import files\n",
        "import math\n",
        "\n",
        "# set parameters\n",
        "random.seed(249469394)\n",
        "N_POP = 10000  # no. of population\n",
        "N_SICK = 10  # no. of sick\n",
        "DAYS_INCUB = 2 + 1  # days of incubation (add 1 b/c counter starts at 1)\n",
        "SICK_SPELL = [7,9]  # length of infection (mode and median of lognormal)\n",
        "SOCIAL = [[8,10], [4,5], [1,2]]  # number of social interactions w/o and w/ social distancing (mode and median of lognormals)\n",
        "PROBS = [0.6,0.3,0.2,0.1]  # probabilities of infection when meeting sick\n",
        "PROB_DEATH = 0.03  # probability of dying when infected\n",
        "VAX_BETWEEN = 15  # days between 1st and 2nd injection\n",
        "VAX_LAG = 10  # days between injection and immunity\n",
        "\n",
        "\n",
        "def logN(mode_med: list) -> int:\n",
        "  \"\"\"\n",
        "  Samples from a lognormal and floors.\n",
        "\n",
        "  :param mode: mode of lognormal distribution\n",
        "  :param median: median of lognormal distribution\n",
        "  :return: floored lognormal(mu, sigma) observation\n",
        "  \"\"\"\n",
        "  mode, median = mode_med\n",
        "  assert mode < median, \"Mode might not be greater than the median. Set the parameters accordingly.\"\n",
        "\n",
        "  mu = math.log(median)  # mu parameter\n",
        "  sigma = math.sqrt(mu-math.log(mode))  # sigma parameter\n",
        "  return math.floor(np.random.lognormal(mu, sigma))\n",
        "\n",
        "\n",
        "def initialize_population(n: int, n_sick: int) -> dict:\n",
        "  \"\"\"\n",
        "  Initializes a population.\n",
        "\n",
        "  :param n: number of individuals\n",
        "  :param n__: number of sick individuals\n",
        "  :return: dictionary with individual features\n",
        "  \"\"\"\n",
        "\n",
        "  # infection\n",
        "  id = ['id_' + str(i) for i in range(n)]  # IDs\n",
        "  sick = [1 for i in range(n_sick)] + [0 for i in range(n-n_sick)]  # status {'healthy': 0, , 'sick': 1, 'recovered': 2, 'dead': 3}\n",
        "  sick_counter = [DAYS_INCUB + 1 for i in range(n_sick)] + [0 for i in range(n-n_sick)]  # days from infection \n",
        "  dead = [0 for i in range(n)]  # dead dummy\n",
        "  sick_spell = [logN(SICK_SPELL) for i in range(n_sick)] + [0 for i in range(n-n_sick)]  # length of infection\n",
        "\n",
        "  # vaccine\n",
        "  vax = [0 for i in range(n)]  # vaccine {'no': 0, '1st dose': 1, '2nd dose': 2}\n",
        "  vax1_counter = [0 for i in range(n)]  # days from 1st dose\n",
        "  vax2_counter = [0 for i in range(n)]  # days from 2nd dose\n",
        "\n",
        "  # policies\n",
        "  mask = [0 for i in range(n)]  # masking dummy\n",
        "  socdist = [0 for i in range(n)]  # social distancing dummy\n",
        "\n",
        "  keys = ['id', 'sick', 'sick_counter', 'sick_spell', 'vax', 'vax1_counter', 'vax2_counter', 'dead', 'mask', 'socdist']\n",
        "  \n",
        "  return {k:v for k,v in locals().items() if k in keys}\n",
        "\n",
        "\n",
        "def count_sick(sick: list) -> int:\n",
        "  \"\"\"\n",
        "  Counts number of sick individuals.\n",
        "  \"\"\"\n",
        "  return int(len([i for i in sick if i == 1]))\n",
        "\n",
        "\n",
        "def subset_population(pop: dict):\n",
        "  \"\"\"\n",
        "  Returns lists of indexes for the different health status.\n",
        "  \"\"\"\n",
        "\n",
        "  idx_healthy, idx_incubation, idx_recovered, idx_dead, idx_sick = [], [], [], [], []\n",
        "\n",
        "  # extract features\n",
        "  ids = [i for i in range(len(pop['id']))]\n",
        "  statuses = [s for s in pop['sick']]\n",
        "  counters = [c for c in pop['sick_counter']]\n",
        "\n",
        "  # subset\n",
        "  for idx, status, counter in zip(ids, statuses, counters):\n",
        "    if (status == 0): idx_healthy.append(idx)\n",
        "    elif (status == 1) and (counter <=DAYS_INCUB): idx_incubation.append(idx)\n",
        "    elif (status == 2): idx_recovered.append(idx)\n",
        "    elif (status == 3): idx_dead.append(idx)\n",
        "    else: idx_sick.append(idx)\n",
        "\n",
        "  return idx_healthy, idx_incubation, idx_recovered, idx_dead, idx_sick\n",
        "\n",
        "\n",
        "def calculate_conditional(pop: dict, idx: int) -> float:\n",
        "  \"\"\"\n",
        "  Returns the conditional probability of an infection given a contact with a carrier.\n",
        "\n",
        "  :param pop: dictionary holding population\n",
        "  :param idx: individual index\n",
        "  :return: probability of infection\n",
        "  \"\"\"\n",
        "\n",
        "  # extract individual features\n",
        "  status = [pop['mask'][idx],  # masking\n",
        "            pop['vax'][idx],  # vaccine dummy\n",
        "            pop['vax1_counter'][idx] > VAX_LAG,  # more than 10 days from 1st vaccine\n",
        "            pop['vax2_counter'][idx] > VAX_LAG]  # more than 10 days from 1st vaccine\n",
        "\n",
        "  # calculate probability\n",
        "  if status == ([1,0,0,0] or [1,1,0,0]):  p = PROBS[1] # masking\n",
        "  elif status == ([1,1,1,0] or [0,1,1,0]):  p = PROBS[2] # vaccine 1st dose\n",
        "  elif status == ([1,2,1,0] or [0,2,1,0]):  p = PROBS[2] # vaccine 2nd dose (not yet immune)\n",
        "  elif status == ([0,2,1,1] or [1,2,1,1]):  p = PROBS[3] # vaccine 2nd dose\n",
        "  else: p = PROBS[0]\n",
        "  return p\n",
        "\n",
        "\n",
        "def day_report(sick__: list, sick: list) -> list:\n",
        "  \"\"\"\n",
        "  Returns a summary of new cases, deaths, and recovered patients.\n",
        "\n",
        "  :param pop__: population at prior time-period\n",
        "  :param pop: population at current time-period\n",
        "  :return: list holding summary stats \n",
        "  \"\"\"\n",
        "  cases, recovered, deaths = 0,0,0\n",
        "\n",
        "  # for each individual\n",
        "  for before, after in zip(sick__, sick):\n",
        "    # if before-after statuses differ\n",
        "    if before != after:\n",
        "      if after == 3: deaths += 1\n",
        "      if after == 2: recovered += 1\n",
        "      if after == 1: cases += 1\n",
        "  return [cases, recovered, deaths]\n",
        "\n",
        "\n",
        "def update_population(pop: dict, masking: int, socdist: int) -> dict:\n",
        "  \"\"\"\n",
        "  Updates the population for the next time-period.\n",
        "\n",
        "  :param pop: population\n",
        "  :param p_death: probability of death conditional on infection\n",
        "  :param masking: mask-wearing dummy\n",
        "  :param socdist: social distancing dummy\n",
        "  :return: updated population\n",
        "  \"\"\"\n",
        "\n",
        "  # containment policies\n",
        "  for idx in range(len(pop['id'])):\n",
        "    pop['mask'][idx] = 1 if masking else 0\n",
        "    if socdist == 0:\n",
        "      pop['socdist'][idx] = 0\n",
        "    elif socdist == 1:\n",
        "      pop['socdist'][idx] = 1\n",
        "    else:\n",
        "      pop['socdist'][idx] = 2\n",
        "  \n",
        "  # subset population\n",
        "  idx_healthy, idx_incubation, idx_recovered, idx_dead, idx_sick = subset_population(pop)\n",
        "  \n",
        "  # calculate probabilities\n",
        "  p1 = len(idx_incubation + idx_sick)/len(idx_healthy + idx_recovered + idx_incubation + idx_sick)  # P(meeting someone sick)\n",
        "  p3 = PROB_DEATH  # P(death | infection)\n",
        "\n",
        "  # update healthy\n",
        "\n",
        "  # for each individual\n",
        "  for idx in idx_healthy:\n",
        "\n",
        "    # number of social interactions depends on social distancing\n",
        "    if pop['socdist'][idx] == 0:\n",
        "      social = logN(SOCIAL[0])\n",
        "    elif pop['socdist'][idx] == 1:\n",
        "      social = logN(SOCIAL[1])\n",
        "    else:\n",
        "      social = logN(SOCIAL[2])\n",
        "    # for each interaction, Bernoulli(p) trials with prob p1 of meeting someone sick\n",
        "    s = 0\n",
        "    while s < social:\n",
        "      s += 1\n",
        "      # if meets someone sick\n",
        "      if random.random() <= p1:\n",
        "        # if gets infected\n",
        "        p2 = calculate_conditional(pop, idx)  # P(infection | meeting someone sick)\n",
        "        if random.random() <= p2:\n",
        "          pop['sick'][idx] += 1  # update status to sick\n",
        "          pop['sick_counter'][idx] += 1  # update counter\n",
        "          pop['sick_spell'][idx] == logN(SICK_SPELL)  # assign length of infection\n",
        "          if random.random() <= p3: # assign fatality with prob p3\n",
        "            pop['dead'][idx] == 1\n",
        "            pop[\"sick\"][idx] += 2\n",
        "          else:\n",
        "            0\n",
        "\n",
        "          # stop Bernoulli trials if gets infected\n",
        "          break\n",
        "\n",
        "\n",
        "  # update sick\n",
        "\n",
        "  # for each individual\n",
        "  for idx in idx_sick + idx_incubation:\n",
        "    pop['sick_counter'][idx] += 1\n",
        "\n",
        "    # if last day of infection\n",
        "    if pop['sick_counter'][idx] == (pop['sick_spell'][idx] + DAYS_INCUB + 1):\n",
        "      # recovers\n",
        "      pop['sick'][idx] += 1\n",
        "  \n",
        "  return pop\n",
        "\n",
        "\n",
        "def vaccine_update(pop: dict, vax_n: int, vax_strat = 0)  -> dict:\n",
        "  \"\"\"\n",
        "  Updates the vaccine rollout.\n",
        "  Two rollout strategies are possible, maximizing first dose injections or second dose injections.\n",
        "\n",
        "  :param pop: population\n",
        "  :param vax_n: number of vaccines / day\n",
        "  :param days_between: days between 1st and 2nd dose\n",
        "  :param vax_strat strategy dummy (1 if prioritize first dose, else complete vaccination)\n",
        "  :return: updated population\n",
        "  \"\"\"\n",
        "\n",
        "  # vaccines require individuals not to be sick\n",
        "  # 2nd dose eligible\n",
        "  idx_elig2 = [idx for idx in range(len(pop['id'])) if (pop['sick'][idx]==0) and (pop['vax1_counter'][idx]> VAX_BETWEEN)]\n",
        "  # 1st dose eligible\n",
        "  idx_elig1 = [idx for idx in range(len(pop['id'])) if (pop['sick'][idx]==0) and (pop['vax'][idx]==0)]\n",
        "\n",
        "  # prioritization\n",
        "  idx_elig = idx_elig2 + idx_elig1 if vax_strat else idx_elig1 + idx_elig2\n",
        "\n",
        "  # rollouts\n",
        "  idx_injections = idx_elig[:vax_n]\n",
        "  for idx in idx_injections:\n",
        "    pop['vax'][idx] += 1\n",
        "  \n",
        "  # update counters\n",
        "  # for each individual\n",
        "  for idx in range(len(pop['id'])):\n",
        "    # if vaccinated, update counters\n",
        "    if pop['vax'][idx] > 0:\n",
        "      if pop['vax'][idx] == 2: pop['vax2_counter'][idx] += 1\n",
        "      if pop['vax'][idx] == 1: pop['vax1_counter'][idx] += 1       \n",
        "  return pop\n",
        "\n",
        "\n",
        "def simulate_pandemic(day_stop: int = 365, day_vax: int = 100, vax_rate: float=0.01, mask: int=1, dist: int=1, vax_strat:int=0):\n",
        "  \"\"\"\n",
        "  Simulates a pandemic and returns daily cases, death tolls, and recoveries.\n",
        "\n",
        "  :param day_stop: day simulation ends\n",
        "  :param day_vax: day of vaccine distribution\n",
        "  :param vax_rate: percent of population vaccinated / day\n",
        "  :param mask: whether masking is followed. 1 if yes\n",
        "  :param dist: whether social distancing is followed. 0 if no, 1 if yes, 2 if lockdown\n",
        "  :param vax_strat: one or two dose vax strategy. 1 if one dose, 0 if two dose\n",
        "  :return: records\n",
        "  \"\"\"\n",
        "\n",
        "  assert day_stop > day_vax, \"Vaccine must be distributed before simulation ends.\"\n",
        "\n",
        "  # initialize population\n",
        "  population = initialize_population(N_POP, N_SICK)\n",
        "  n_pop = len(population['id'])\n",
        "  n = count_sick(population['sick'])\n",
        "  \n",
        "  # initialize counters\n",
        "  day = 0\n",
        "  days, cases, recovered, deaths = [0],[n],[0],[0]\n",
        "\n",
        "  # until vaccine\n",
        "  while (day < day_vax) and (n > 0):\n",
        "    day += 1\n",
        "\n",
        "    # sick at begin\n",
        "    sick__ = [s for s in population['sick']]\n",
        "\n",
        "    # update population\n",
        "    population = update_population(population, mask, dist)\n",
        "    sick = [s for s in population['sick']]\n",
        "    n = count_sick(population['sick'])\n",
        "\n",
        "    # update records\n",
        "    c, r, d = day_report(sick__, sick)\n",
        "    days.append(day)\n",
        "    cases.append(c)\n",
        "    recovered.append(r)\n",
        "    deaths.append(d)\n",
        "\n",
        "  \n",
        "  # after vaccine\n",
        "  vax_n = math.floor(vax_rate * n_pop)  # vaccines per day\n",
        "\n",
        "  # until end or no more sick individuals\n",
        "  while (day < day_stop) and (n > 0):\n",
        "    day += 1\n",
        "\n",
        "    # sick at begin\n",
        "    sick__ = [s for s in population['sick']]\n",
        "\n",
        "    # update vaccines\n",
        "    population = vaccine_update(population, vax_n, vax_strat)\n",
        "\n",
        "    # update population\n",
        "    population = update_population(population, mask, dist)\n",
        "    sick = [s for s in population['sick']]\n",
        "    n = count_sick(population['sick'])\n",
        "\n",
        "    # update records\n",
        "    c, r, d = day_report(sick__, sick)\n",
        "    days.append(day)\n",
        "    cases.append(c)\n",
        "    recovered.append(r)\n",
        "    deaths.append(d)\n",
        "\n",
        "  return days, cases, recovered, deaths\n",
        "\n",
        "\n",
        "def bar_plot(x_vals, x_lab, y_vals, y_lab, title, file_name):\n",
        "  ax = sns.barplot(x=x_vals, y=y_vals)\n",
        "  plt.xlabel(x_lab)\n",
        "  plt.ylabel(y_lab)\n",
        "  plt.title(title)\n",
        "  plt.savefig(file_name)\n",
        "  files.download(file_name)\n",
        "  return plt.show()"
      ],
      "execution_count": null,
      "outputs": []
    },
    {
      "cell_type": "code",
      "metadata": {
        "id": "i_C37_44ksr9"
      },
      "source": [
        "# Two Dose Strategy\n",
        "days, cases, recovered, deaths = simulate_pandemic(50,10,0.01,1,1,0)"
      ],
      "execution_count": null,
      "outputs": []
    },
    {
      "cell_type": "code",
      "metadata": {
        "colab": {
          "base_uri": "https://localhost:8080/",
          "height": 316
        },
        "id": "bmeHRACbACJj",
        "outputId": "0007685c-2a5f-44c4-9276-4e625d90a08c"
      },
      "source": [
        "bar_plot(days, \"Day\", cases, \"Cases\", \"Cases per Day\\nMasking, Distancing, 2 Doses\", \"cases_per_day_mask_dist_two.png\")"
      ],
      "execution_count": null,
      "outputs": [
        {
          "output_type": "display_data",
          "data": {
            "application/javascript": [
              "\n",
              "    async function download(id, filename, size) {\n",
              "      if (!google.colab.kernel.accessAllowed) {\n",
              "        return;\n",
              "      }\n",
              "      const div = document.createElement('div');\n",
              "      const label = document.createElement('label');\n",
              "      label.textContent = `Downloading \"${filename}\": `;\n",
              "      div.appendChild(label);\n",
              "      const progress = document.createElement('progress');\n",
              "      progress.max = size;\n",
              "      div.appendChild(progress);\n",
              "      document.body.appendChild(div);\n",
              "\n",
              "      const buffers = [];\n",
              "      let downloaded = 0;\n",
              "\n",
              "      const channel = await google.colab.kernel.comms.open(id);\n",
              "      // Send a message to notify the kernel that we're ready.\n",
              "      channel.send({})\n",
              "\n",
              "      for await (const message of channel.messages) {\n",
              "        // Send a message to notify the kernel that we're ready.\n",
              "        channel.send({})\n",
              "        if (message.buffers) {\n",
              "          for (const buffer of message.buffers) {\n",
              "            buffers.push(buffer);\n",
              "            downloaded += buffer.byteLength;\n",
              "            progress.value = downloaded;\n",
              "          }\n",
              "        }\n",
              "      }\n",
              "      const blob = new Blob(buffers, {type: 'application/binary'});\n",
              "      const a = document.createElement('a');\n",
              "      a.href = window.URL.createObjectURL(blob);\n",
              "      a.download = filename;\n",
              "      div.appendChild(a);\n",
              "      a.click();\n",
              "      div.remove();\n",
              "    }\n",
              "  "
            ],
            "text/plain": [
              "<IPython.core.display.Javascript object>"
            ]
          },
          "metadata": {
            "tags": []
          }
        },
        {
          "output_type": "display_data",
          "data": {
            "application/javascript": [
              "download(\"download_cbfb0604-1bac-4028-8f4c-4f8543efcc22\", \"cases_per_day_mask_dist_two.png\", 11560)"
            ],
            "text/plain": [
              "<IPython.core.display.Javascript object>"
            ]
          },
          "metadata": {
            "tags": []
          }
        },
        {
          "output_type": "display_data",
          "data": {
            "image/png": "[encoded data removed]",
            "text/plain": [
              "<Figure size 432x288 with 1 Axes>"
            ]
          },
          "metadata": {
            "tags": []
          }
        }
      ]
    },
    {
      "cell_type": "code",
      "metadata": {
        "colab": {
          "base_uri": "https://localhost:8080/",
          "height": 316
        },
        "id": "m3VQcLTxB5JL",
        "outputId": "231a3ae3-4b9f-4cff-997d-b40c44ac204c"
      },
      "source": [
        "bar_plot(days, \"Day\", deaths, \"Deaths\", \"Deaths per Day\\nMasking, Distancing, 2 Doses\", \"deaths_per_day_mask_dist_two.png\")"
      ],
      "execution_count": null,
      "outputs": [
        {
          "output_type": "display_data",
          "data": {
            "application/javascript": [
              "\n",
              "    async function download(id, filename, size) {\n",
              "      if (!google.colab.kernel.accessAllowed) {\n",
              "        return;\n",
              "      }\n",
              "      const div = document.createElement('div');\n",
              "      const label = document.createElement('label');\n",
              "      label.textContent = `Downloading \"${filename}\": `;\n",
              "      div.appendChild(label);\n",
              "      const progress = document.createElement('progress');\n",
              "      progress.max = size;\n",
              "      div.appendChild(progress);\n",
              "      document.body.appendChild(div);\n",
              "\n",
              "      const buffers = [];\n",
              "      let downloaded = 0;\n",
              "\n",
              "      const channel = await google.colab.kernel.comms.open(id);\n",
              "      // Send a message to notify the kernel that we're ready.\n",
              "      channel.send({})\n",
              "\n",
              "      for await (const message of channel.messages) {\n",
              "        // Send a message to notify the kernel that we're ready.\n",
              "        channel.send({})\n",
              "        if (message.buffers) {\n",
              "          for (const buffer of message.buffers) {\n",
              "            buffers.push(buffer);\n",
              "            downloaded += buffer.byteLength;\n",
              "            progress.value = downloaded;\n",
              "          }\n",
              "        }\n",
              "      }\n",
              "      const blob = new Blob(buffers, {type: 'application/binary'});\n",
              "      const a = document.createElement('a');\n",
              "      a.href = window.URL.createObjectURL(blob);\n",
              "      a.download = filename;\n",
              "      div.appendChild(a);\n",
              "      a.click();\n",
              "      div.remove();\n",
              "    }\n",
              "  "
            ],
            "text/plain": [
              "<IPython.core.display.Javascript object>"
            ]
          },
          "metadata": {
            "tags": []
          }
        },
        {
          "output_type": "display_data",
          "data": {
            "application/javascript": [
              "download(\"download_a438735b-4a5a-4202-a9df-4cd67f1ba906\", \"deaths_per_day_mask_dist_two.png\", 12739)"
            ],
            "text/plain": [
              "<IPython.core.display.Javascript object>"
            ]
          },
          "metadata": {
            "tags": []
          }
        },
        {
          "output_type": "display_data",
          "data": {
            "image/png": "[encoded data removed]",
            "text/plain": [
              "<Figure size 432x288 with 1 Axes>"
            ]
          },
          "metadata": {
            "tags": []
          }
        }
      ]
    },
    {
      "cell_type": "code",
      "metadata": {
        "id": "NRm1ZRSeD2Eh"
      },
      "source": [
        "# One Dose Strategy\n",
        "days, cases, recovered, deaths = simulate_pandemic(50,10,0.01,1,1,1)"
      ],
      "execution_count": null,
      "outputs": []
    },
    {
      "cell_type": "code",
      "metadata": {
        "colab": {
          "base_uri": "https://localhost:8080/",
          "height": 316
        },
        "id": "Pc0hKkuhEJCh",
        "outputId": "e8496005-2a79-49b7-9c26-005671705c58"
      },
      "source": [
        "bar_plot(days, \"Day\", cases, \"Cases\", \"Cases per Day\\nMasking, Distancing, 1 Dose\", \"cases_per_day_mask_dist_one.png\")"
      ],
      "execution_count": null,
      "outputs": [
        {
          "output_type": "display_data",
          "data": {
            "application/javascript": [
              "\n",
              "    async function download(id, filename, size) {\n",
              "      if (!google.colab.kernel.accessAllowed) {\n",
              "        return;\n",
              "      }\n",
              "      const div = document.createElement('div');\n",
              "      const label = document.createElement('label');\n",
              "      label.textContent = `Downloading \"${filename}\": `;\n",
              "      div.appendChild(label);\n",
              "      const progress = document.createElement('progress');\n",
              "      progress.max = size;\n",
              "      div.appendChild(progress);\n",
              "      document.body.appendChild(div);\n",
              "\n",
              "      const buffers = [];\n",
              "      let downloaded = 0;\n",
              "\n",
              "      const channel = await google.colab.kernel.comms.open(id);\n",
              "      // Send a message to notify the kernel that we're ready.\n",
              "      channel.send({})\n",
              "\n",
              "      for await (const message of channel.messages) {\n",
              "        // Send a message to notify the kernel that we're ready.\n",
              "        channel.send({})\n",
              "        if (message.buffers) {\n",
              "          for (const buffer of message.buffers) {\n",
              "            buffers.push(buffer);\n",
              "            downloaded += buffer.byteLength;\n",
              "            progress.value = downloaded;\n",
              "          }\n",
              "        }\n",
              "      }\n",
              "      const blob = new Blob(buffers, {type: 'application/binary'});\n",
              "      const a = document.createElement('a');\n",
              "      a.href = window.URL.createObjectURL(blob);\n",
              "      a.download = filename;\n",
              "      div.appendChild(a);\n",
              "      a.click();\n",
              "      div.remove();\n",
              "    }\n",
              "  "
            ],
            "text/plain": [
              "<IPython.core.display.Javascript object>"
            ]
          },
          "metadata": {
            "tags": []
          }
        },
        {
          "output_type": "display_data",
          "data": {
            "application/javascript": [
              "download(\"download_93fe19fc-55fb-4fb6-9fec-d5ac87cef9f8\", \"cases_per_day_mask_dist_one.png\", 11422)"
            ],
            "text/plain": [
              "<IPython.core.display.Javascript object>"
            ]
          },
          "metadata": {
            "tags": []
          }
        },
        {
          "output_type": "display_data",
          "data": {
            "image/png": "[encoded data removed]",
            "text/plain": [
              "<Figure size 432x288 with 1 Axes>"
            ]
          },
          "metadata": {
            "tags": []
          }
        }
      ]
    },
    {
      "cell_type": "code",
      "metadata": {
        "colab": {
          "base_uri": "https://localhost:8080/",
          "height": 316
        },
        "id": "0jy60237EPFl",
        "outputId": "b7274e11-4c5a-4ad2-e9f3-a51d62535ea2"
      },
      "source": [
        "bar_plot(days, \"Day\", deaths, \"Deaths\", \"Deaths per Day\\nMasking, Distancing, 1 Dose\", \"deaths_per_day_mask_dist_one.png\")"
      ],
      "execution_count": null,
      "outputs": [
        {
          "output_type": "display_data",
          "data": {
            "application/javascript": [
              "\n",
              "    async function download(id, filename, size) {\n",
              "      if (!google.colab.kernel.accessAllowed) {\n",
              "        return;\n",
              "      }\n",
              "      const div = document.createElement('div');\n",
              "      const label = document.createElement('label');\n",
              "      label.textContent = `Downloading \"${filename}\": `;\n",
              "      div.appendChild(label);\n",
              "      const progress = document.createElement('progress');\n",
              "      progress.max = size;\n",
              "      div.appendChild(progress);\n",
              "      document.body.appendChild(div);\n",
              "\n",
              "      const buffers = [];\n",
              "      let downloaded = 0;\n",
              "\n",
              "      const channel = await google.colab.kernel.comms.open(id);\n",
              "      // Send a message to notify the kernel that we're ready.\n",
              "      channel.send({})\n",
              "\n",
              "      for await (const message of channel.messages) {\n",
              "        // Send a message to notify the kernel that we're ready.\n",
              "        channel.send({})\n",
              "        if (message.buffers) {\n",
              "          for (const buffer of message.buffers) {\n",
              "            buffers.push(buffer);\n",
              "            downloaded += buffer.byteLength;\n",
              "            progress.value = downloaded;\n",
              "          }\n",
              "        }\n",
              "      }\n",
              "      const blob = new Blob(buffers, {type: 'application/binary'});\n",
              "      const a = document.createElement('a');\n",
              "      a.href = window.URL.createObjectURL(blob);\n",
              "      a.download = filename;\n",
              "      div.appendChild(a);\n",
              "      a.click();\n",
              "      div.remove();\n",
              "    }\n",
              "  "
            ],
            "text/plain": [
              "<IPython.core.display.Javascript object>"
            ]
          },
          "metadata": {
            "tags": []
          }
        },
        {
          "output_type": "display_data",
          "data": {
            "application/javascript": [
              "download(\"download_3da81ac1-0e7c-40bb-90bb-0c7acb86176d\", \"deaths_per_day_mask_dist_one.png\", 12249)"
            ],
            "text/plain": [
              "<IPython.core.display.Javascript object>"
            ]
          },
          "metadata": {
            "tags": []
          }
        },
        {
          "output_type": "display_data",
          "data": {
            "image/png": "[encoded data removed]",
            "text/plain": [
              "<Figure size 432x288 with 1 Axes>"
            ]
          },
          "metadata": {
            "tags": []
          }
        }
      ]
    },
    {
      "cell_type": "code",
      "metadata": {
        "id": "OI5ajgaDJH5M"
      },
      "source": [
        "# Two Dose Strategy with Lockdown\n",
        "days, cases, recovered, deaths = simulate_pandemic(50,10,0.01,1,2,0)"
      ],
      "execution_count": null,
      "outputs": []
    },
    {
      "cell_type": "code",
      "metadata": {
        "colab": {
          "base_uri": "https://localhost:8080/",
          "height": 333
        },
        "id": "AZ6OxXKoRVDd",
        "outputId": "58de81f3-f85b-47b6-863b-220408c53555"
      },
      "source": [
        "bar_plot(days, \"Day\", cases, \"Cases\", \"Cases per Day\\nMasking, Lockdown, 2 Doses\", \"cases_per_day_lockdown.png\")"
      ],
      "execution_count": null,
      "outputs": [
        {
          "output_type": "display_data",
          "data": {
            "application/javascript": [
              "\n",
              "    async function download(id, filename, size) {\n",
              "      if (!google.colab.kernel.accessAllowed) {\n",
              "        return;\n",
              "      }\n",
              "      const div = document.createElement('div');\n",
              "      const label = document.createElement('label');\n",
              "      label.textContent = `Downloading \"${filename}\": `;\n",
              "      div.appendChild(label);\n",
              "      const progress = document.createElement('progress');\n",
              "      progress.max = size;\n",
              "      div.appendChild(progress);\n",
              "      document.body.appendChild(div);\n",
              "\n",
              "      const buffers = [];\n",
              "      let downloaded = 0;\n",
              "\n",
              "      const channel = await google.colab.kernel.comms.open(id);\n",
              "      // Send a message to notify the kernel that we're ready.\n",
              "      channel.send({})\n",
              "\n",
              "      for await (const message of channel.messages) {\n",
              "        // Send a message to notify the kernel that we're ready.\n",
              "        channel.send({})\n",
              "        if (message.buffers) {\n",
              "          for (const buffer of message.buffers) {\n",
              "            buffers.push(buffer);\n",
              "            downloaded += buffer.byteLength;\n",
              "            progress.value = downloaded;\n",
              "          }\n",
              "        }\n",
              "      }\n",
              "      const blob = new Blob(buffers, {type: 'application/binary'});\n",
              "      const a = document.createElement('a');\n",
              "      a.href = window.URL.createObjectURL(blob);\n",
              "      a.download = filename;\n",
              "      div.appendChild(a);\n",
              "      a.click();\n",
              "      div.remove();\n",
              "    }\n",
              "  "
            ],
            "text/plain": [
              "<IPython.core.display.Javascript object>"
            ]
          },
          "metadata": {
            "tags": []
          }
        },
        {
          "output_type": "display_data",
          "data": {
            "application/javascript": [
              "download(\"download_53eb8413-b4f1-47e9-b40c-df845bacce8f\", \"cases_per_day_lockdown.png\", 17462)"
            ],
            "text/plain": [
              "<IPython.core.display.Javascript object>"
            ]
          },
          "metadata": {
            "tags": []
          }
        },
        {
          "output_type": "display_data",
          "data": {
            "image/png": "[encoded data removed]",
            "text/plain": [
              "<Figure size 432x288 with 1 Axes>"
            ]
          },
          "metadata": {
            "tags": []
          }
        }
      ]
    },
    {
      "cell_type": "code",
      "metadata": {
        "colab": {
          "base_uri": "https://localhost:8080/",
          "height": 333
        },
        "id": "it7naGs5Rhth",
        "outputId": "32612388-c9d9-4818-f0a2-8342fd041be9"
      },
      "source": [
        "bar_plot(days, \"Day\", deaths, \"Deaths\", \"Deaths per Day\\nMasking, Lockdown, 2 Doses\", \"deaths_per_day_lockdown.png\")"
      ],
      "execution_count": null,
      "outputs": [
        {
          "output_type": "display_data",
          "data": {
            "application/javascript": [
              "\n",
              "    async function download(id, filename, size) {\n",
              "      if (!google.colab.kernel.accessAllowed) {\n",
              "        return;\n",
              "      }\n",
              "      const div = document.createElement('div');\n",
              "      const label = document.createElement('label');\n",
              "      label.textContent = `Downloading \"${filename}\": `;\n",
              "      div.appendChild(label);\n",
              "      const progress = document.createElement('progress');\n",
              "      progress.max = size;\n",
              "      div.appendChild(progress);\n",
              "      document.body.appendChild(div);\n",
              "\n",
              "      const buffers = [];\n",
              "      let downloaded = 0;\n",
              "\n",
              "      const channel = await google.colab.kernel.comms.open(id);\n",
              "      // Send a message to notify the kernel that we're ready.\n",
              "      channel.send({})\n",
              "\n",
              "      for await (const message of channel.messages) {\n",
              "        // Send a message to notify the kernel that we're ready.\n",
              "        channel.send({})\n",
              "        if (message.buffers) {\n",
              "          for (const buffer of message.buffers) {\n",
              "            buffers.push(buffer);\n",
              "            downloaded += buffer.byteLength;\n",
              "            progress.value = downloaded;\n",
              "          }\n",
              "        }\n",
              "      }\n",
              "      const blob = new Blob(buffers, {type: 'application/binary'});\n",
              "      const a = document.createElement('a');\n",
              "      a.href = window.URL.createObjectURL(blob);\n",
              "      a.download = filename;\n",
              "      div.appendChild(a);\n",
              "      a.click();\n",
              "      div.remove();\n",
              "    }\n",
              "  "
            ],
            "text/plain": [
              "<IPython.core.display.Javascript object>"
            ]
          },
          "metadata": {
            "tags": []
          }
        },
        {
          "output_type": "display_data",
          "data": {
            "application/javascript": [
              "download(\"download_a550b3a3-7065-4a0c-ba17-d9c3a6acec0b\", \"deaths_per_day_lockdown.png\", 15849)"
            ],
            "text/plain": [
              "<IPython.core.display.Javascript object>"
            ]
          },
          "metadata": {
            "tags": []
          }
        },
        {
          "output_type": "display_data",
          "data": {
            "image/png": "[encoded data removed]",
            "text/plain": [
              "<Figure size 432x288 with 1 Axes>"
            ]
          },
          "metadata": {
            "tags": []
          }
        }
      ]
    },
    {
      "cell_type": "code",
      "metadata": {
        "id": "DTRRd-O2EfXU"
      },
      "source": [
        "# Herd Immunity Strategy\n",
        "days, cases, recovered, deaths = simulate_pandemic(50,10,0.01,0,0,1)"
      ],
      "execution_count": null,
      "outputs": []
    },
    {
      "cell_type": "code",
      "metadata": {
        "colab": {
          "base_uri": "https://localhost:8080/",
          "height": 316
        },
        "id": "dTFsiTINI1DU",
        "outputId": "eb21df21-4ecc-45e8-dd3d-48cd842844d6"
      },
      "source": [
        "bar_plot(days, \"Day\", cases, \"Cases\", \"Cases per Day\\nNo Masking, No Distancing, 1 Dose\", \"cases_per_day_herd_immunity.png\")"
      ],
      "execution_count": null,
      "outputs": [
        {
          "output_type": "display_data",
          "data": {
            "application/javascript": [
              "\n",
              "    async function download(id, filename, size) {\n",
              "      if (!google.colab.kernel.accessAllowed) {\n",
              "        return;\n",
              "      }\n",
              "      const div = document.createElement('div');\n",
              "      const label = document.createElement('label');\n",
              "      label.textContent = `Downloading \"${filename}\": `;\n",
              "      div.appendChild(label);\n",
              "      const progress = document.createElement('progress');\n",
              "      progress.max = size;\n",
              "      div.appendChild(progress);\n",
              "      document.body.appendChild(div);\n",
              "\n",
              "      const buffers = [];\n",
              "      let downloaded = 0;\n",
              "\n",
              "      const channel = await google.colab.kernel.comms.open(id);\n",
              "      // Send a message to notify the kernel that we're ready.\n",
              "      channel.send({})\n",
              "\n",
              "      for await (const message of channel.messages) {\n",
              "        // Send a message to notify the kernel that we're ready.\n",
              "        channel.send({})\n",
              "        if (message.buffers) {\n",
              "          for (const buffer of message.buffers) {\n",
              "            buffers.push(buffer);\n",
              "            downloaded += buffer.byteLength;\n",
              "            progress.value = downloaded;\n",
              "          }\n",
              "        }\n",
              "      }\n",
              "      const blob = new Blob(buffers, {type: 'application/binary'});\n",
              "      const a = document.createElement('a');\n",
              "      a.href = window.URL.createObjectURL(blob);\n",
              "      a.download = filename;\n",
              "      div.appendChild(a);\n",
              "      a.click();\n",
              "      div.remove();\n",
              "    }\n",
              "  "
            ],
            "text/plain": [
              "<IPython.core.display.Javascript object>"
            ]
          },
          "metadata": {
            "tags": []
          }
        },
        {
          "output_type": "display_data",
          "data": {
            "application/javascript": [
              "download(\"download_56438835-f4ce-4d14-b36a-1558566a3ab5\", \"cases_per_day_herd_immunity.png\", 12310)"
            ],
            "text/plain": [
              "<IPython.core.display.Javascript object>"
            ]
          },
          "metadata": {
            "tags": []
          }
        },
        {
          "output_type": "display_data",
          "data": {
            "image/png": "[encoded data removed]",
            "text/plain": [
              "<Figure size 432x288 with 1 Axes>"
            ]
          },
          "metadata": {
            "tags": []
          }
        }
      ]
    },
    {
      "cell_type": "code",
      "metadata": {
        "colab": {
          "base_uri": "https://localhost:8080/",
          "height": 316
        },
        "id": "4Hcb8dvjI9Rl",
        "outputId": "51acb1af-43b6-4c61-d950-7d2fcdd1702d"
      },
      "source": [
        "bar_plot(days, \"Day\", deaths, \"Deaths\", \"Deaths per Day\\nNo Masking, No Distancing, 1 Dose\", \"deaths_per_day_herd_immunity.png\")"
      ],
      "execution_count": null,
      "outputs": [
        {
          "output_type": "display_data",
          "data": {
            "application/javascript": [
              "\n",
              "    async function download(id, filename, size) {\n",
              "      if (!google.colab.kernel.accessAllowed) {\n",
              "        return;\n",
              "      }\n",
              "      const div = document.createElement('div');\n",
              "      const label = document.createElement('label');\n",
              "      label.textContent = `Downloading \"${filename}\": `;\n",
              "      div.appendChild(label);\n",
              "      const progress = document.createElement('progress');\n",
              "      progress.max = size;\n",
              "      div.appendChild(progress);\n",
              "      document.body.appendChild(div);\n",
              "\n",
              "      const buffers = [];\n",
              "      let downloaded = 0;\n",
              "\n",
              "      const channel = await google.colab.kernel.comms.open(id);\n",
              "      // Send a message to notify the kernel that we're ready.\n",
              "      channel.send({})\n",
              "\n",
              "      for await (const message of channel.messages) {\n",
              "        // Send a message to notify the kernel that we're ready.\n",
              "        channel.send({})\n",
              "        if (message.buffers) {\n",
              "          for (const buffer of message.buffers) {\n",
              "            buffers.push(buffer);\n",
              "            downloaded += buffer.byteLength;\n",
              "            progress.value = downloaded;\n",
              "          }\n",
              "        }\n",
              "      }\n",
              "      const blob = new Blob(buffers, {type: 'application/binary'});\n",
              "      const a = document.createElement('a');\n",
              "      a.href = window.URL.createObjectURL(blob);\n",
              "      a.download = filename;\n",
              "      div.appendChild(a);\n",
              "      a.click();\n",
              "      div.remove();\n",
              "    }\n",
              "  "
            ],
            "text/plain": [
              "<IPython.core.display.Javascript object>"
            ]
          },
          "metadata": {
            "tags": []
          }
        },
        {
          "output_type": "display_data",
          "data": {
            "application/javascript": [
              "download(\"download_fe9b6b3f-6cc8-4dce-ab98-da26eb0846f1\", \"deaths_per_day_herd_immunity.png\", 13478)"
            ],
            "text/plain": [
              "<IPython.core.display.Javascript object>"
            ]
          },
          "metadata": {
            "tags": []
          }
        },
        {
          "output_type": "display_data",
          "data": {
            "image/png": "[encoded data removed]",
            "text/plain": [
              "<Figure size 432x288 with 1 Axes>"
            ]
          },
          "metadata": {
            "tags": []
          }
        }
      ]
    },
    {
      "cell_type": "code",
      "metadata": {
        "id": "8q9cV1Dxa1Wd"
      },
      "source": [
        ""
      ],
      "execution_count": null,
      "outputs": []
    }
  ]
}